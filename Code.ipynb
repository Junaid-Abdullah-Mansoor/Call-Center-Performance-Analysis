{
 "cells": [
  {
   "cell_type": "code",
   "execution_count": 14,
   "id": "6a7d03a4",
   "metadata": {},
   "outputs": [],
   "source": [
    "import pandas as pd\n",
    "import numpy as np\n",
    "import matplotlib.pyplot as plt\n",
    "import seaborn as sns\n",
    "import random\n",
    "\n",
    "plt.rcParams[\"figure.figsize\"] = (5,3)\n",
    "\n",
    "import warnings\n",
    "warnings.filterwarnings('ignore')"
   ]
  },
  {
   "cell_type": "code",
   "execution_count": 15,
   "id": "1f1aa978",
   "metadata": {},
   "outputs": [
    {
     "data": {
      "text/plain": [
       "(504, 9)"
      ]
     },
     "execution_count": 15,
     "metadata": {},
     "output_type": "execute_result"
    }
   ],
   "source": [
    "df = pd.read_excel('EnergyCallCentre.xlsx')\n",
    "df.shape"
   ]
  },
  {
   "cell_type": "code",
   "execution_count": 16,
   "id": "35d43dcc",
   "metadata": {},
   "outputs": [
    {
     "data": {
      "text/html": [
       "<div>\n",
       "<style scoped>\n",
       "    .dataframe tbody tr th:only-of-type {\n",
       "        vertical-align: middle;\n",
       "    }\n",
       "\n",
       "    .dataframe tbody tr th {\n",
       "        vertical-align: top;\n",
       "    }\n",
       "\n",
       "    .dataframe thead th {\n",
       "        text-align: right;\n",
       "    }\n",
       "</style>\n",
       "<table border=\"1\" class=\"dataframe\">\n",
       "  <thead>\n",
       "    <tr style=\"text-align: right;\">\n",
       "      <th></th>\n",
       "      <th>Month</th>\n",
       "      <th>VHT</th>\n",
       "      <th>ToD</th>\n",
       "      <th>Agents</th>\n",
       "      <th>CallsOffered</th>\n",
       "      <th>CallsAbandoned</th>\n",
       "      <th>CallsHandled</th>\n",
       "      <th>ASA</th>\n",
       "      <th>Avehandletime</th>\n",
       "    </tr>\n",
       "  </thead>\n",
       "  <tbody>\n",
       "    <tr>\n",
       "      <th>0</th>\n",
       "      <td>Oct-Nov</td>\n",
       "      <td>Off</td>\n",
       "      <td>morning</td>\n",
       "      <td>19</td>\n",
       "      <td>113</td>\n",
       "      <td>0</td>\n",
       "      <td>113</td>\n",
       "      <td>0.00</td>\n",
       "      <td>4.9</td>\n",
       "    </tr>\n",
       "    <tr>\n",
       "      <th>1</th>\n",
       "      <td>Oct-Nov</td>\n",
       "      <td>On</td>\n",
       "      <td>afternoon</td>\n",
       "      <td>29</td>\n",
       "      <td>146</td>\n",
       "      <td>0</td>\n",
       "      <td>146</td>\n",
       "      <td>0.00</td>\n",
       "      <td>5.8</td>\n",
       "    </tr>\n",
       "    <tr>\n",
       "      <th>2</th>\n",
       "      <td>Oct-Nov</td>\n",
       "      <td>On</td>\n",
       "      <td>evening</td>\n",
       "      <td>5</td>\n",
       "      <td>37</td>\n",
       "      <td>0</td>\n",
       "      <td>37</td>\n",
       "      <td>0.00</td>\n",
       "      <td>4.2</td>\n",
       "    </tr>\n",
       "    <tr>\n",
       "      <th>3</th>\n",
       "      <td>Oct-Nov</td>\n",
       "      <td>Off</td>\n",
       "      <td>morning</td>\n",
       "      <td>26</td>\n",
       "      <td>163</td>\n",
       "      <td>0</td>\n",
       "      <td>163</td>\n",
       "      <td>0.13</td>\n",
       "      <td>5.0</td>\n",
       "    </tr>\n",
       "    <tr>\n",
       "      <th>4</th>\n",
       "      <td>Oct-Nov</td>\n",
       "      <td>Off</td>\n",
       "      <td>afternoon</td>\n",
       "      <td>21</td>\n",
       "      <td>118</td>\n",
       "      <td>0</td>\n",
       "      <td>118</td>\n",
       "      <td>0.00</td>\n",
       "      <td>5.1</td>\n",
       "    </tr>\n",
       "  </tbody>\n",
       "</table>\n",
       "</div>"
      ],
      "text/plain": [
       "     Month  VHT        ToD  Agents  CallsOffered  CallsAbandoned  \\\n",
       "0  Oct-Nov  Off    morning      19           113               0   \n",
       "1  Oct-Nov   On  afternoon      29           146               0   \n",
       "2  Oct-Nov   On    evening       5            37               0   \n",
       "3  Oct-Nov  Off    morning      26           163               0   \n",
       "4  Oct-Nov  Off  afternoon      21           118               0   \n",
       "\n",
       "   CallsHandled   ASA  Avehandletime  \n",
       "0           113  0.00            4.9  \n",
       "1           146  0.00            5.8  \n",
       "2            37  0.00            4.2  \n",
       "3           163  0.13            5.0  \n",
       "4           118  0.00            5.1  "
      ]
     },
     "execution_count": 16,
     "metadata": {},
     "output_type": "execute_result"
    }
   ],
   "source": [
    "df.head()"
   ]
  },
  {
   "cell_type": "code",
   "execution_count": 17,
   "id": "06efaf5c",
   "metadata": {},
   "outputs": [],
   "source": [
    "df1 = df.sample(100)"
   ]
  },
  {
   "cell_type": "code",
   "execution_count": 18,
   "id": "6a2edb2a",
   "metadata": {},
   "outputs": [],
   "source": [
    "df1 = df1.reset_index().drop(['index'], axis=1)"
   ]
  },
  {
   "cell_type": "code",
   "execution_count": 19,
   "id": "3aecbb3c",
   "metadata": {},
   "outputs": [
    {
     "data": {
      "text/html": [
       "<div>\n",
       "<style scoped>\n",
       "    .dataframe tbody tr th:only-of-type {\n",
       "        vertical-align: middle;\n",
       "    }\n",
       "\n",
       "    .dataframe tbody tr th {\n",
       "        vertical-align: top;\n",
       "    }\n",
       "\n",
       "    .dataframe thead th {\n",
       "        text-align: right;\n",
       "    }\n",
       "</style>\n",
       "<table border=\"1\" class=\"dataframe\">\n",
       "  <thead>\n",
       "    <tr style=\"text-align: right;\">\n",
       "      <th></th>\n",
       "      <th>Month</th>\n",
       "      <th>VHT</th>\n",
       "      <th>ToD</th>\n",
       "      <th>Agents</th>\n",
       "      <th>CallsOffered</th>\n",
       "      <th>CallsAbandoned</th>\n",
       "      <th>CallsHandled</th>\n",
       "      <th>ASA</th>\n",
       "      <th>Avehandletime</th>\n",
       "    </tr>\n",
       "  </thead>\n",
       "  <tbody>\n",
       "    <tr>\n",
       "      <th>0</th>\n",
       "      <td>Feb-Mar</td>\n",
       "      <td>Off</td>\n",
       "      <td>evening</td>\n",
       "      <td>9</td>\n",
       "      <td>57</td>\n",
       "      <td>1</td>\n",
       "      <td>56</td>\n",
       "      <td>0.10</td>\n",
       "      <td>4.9</td>\n",
       "    </tr>\n",
       "    <tr>\n",
       "      <th>1</th>\n",
       "      <td>Feb-Mar</td>\n",
       "      <td>Off</td>\n",
       "      <td>afternoon</td>\n",
       "      <td>3</td>\n",
       "      <td>23</td>\n",
       "      <td>0</td>\n",
       "      <td>23</td>\n",
       "      <td>0.00</td>\n",
       "      <td>4.0</td>\n",
       "    </tr>\n",
       "    <tr>\n",
       "      <th>2</th>\n",
       "      <td>Dec-Jan</td>\n",
       "      <td>Off</td>\n",
       "      <td>evening</td>\n",
       "      <td>8</td>\n",
       "      <td>58</td>\n",
       "      <td>0</td>\n",
       "      <td>58</td>\n",
       "      <td>0.05</td>\n",
       "      <td>4.6</td>\n",
       "    </tr>\n",
       "    <tr>\n",
       "      <th>3</th>\n",
       "      <td>Oct-Nov</td>\n",
       "      <td>On</td>\n",
       "      <td>evening</td>\n",
       "      <td>11</td>\n",
       "      <td>74</td>\n",
       "      <td>1</td>\n",
       "      <td>73</td>\n",
       "      <td>0.38</td>\n",
       "      <td>4.5</td>\n",
       "    </tr>\n",
       "    <tr>\n",
       "      <th>4</th>\n",
       "      <td>Oct-Nov</td>\n",
       "      <td>Off</td>\n",
       "      <td>evening</td>\n",
       "      <td>11</td>\n",
       "      <td>67</td>\n",
       "      <td>1</td>\n",
       "      <td>66</td>\n",
       "      <td>0.17</td>\n",
       "      <td>5.0</td>\n",
       "    </tr>\n",
       "  </tbody>\n",
       "</table>\n",
       "</div>"
      ],
      "text/plain": [
       "     Month  VHT        ToD  Agents  CallsOffered  CallsAbandoned  \\\n",
       "0  Feb-Mar  Off    evening       9            57               1   \n",
       "1  Feb-Mar  Off  afternoon       3            23               0   \n",
       "2  Dec-Jan  Off    evening       8            58               0   \n",
       "3  Oct-Nov   On    evening      11            74               1   \n",
       "4  Oct-Nov  Off    evening      11            67               1   \n",
       "\n",
       "   CallsHandled   ASA  Avehandletime  \n",
       "0            56  0.10            4.9  \n",
       "1            23  0.00            4.0  \n",
       "2            58  0.05            4.6  \n",
       "3            73  0.38            4.5  \n",
       "4            66  0.17            5.0  "
      ]
     },
     "execution_count": 19,
     "metadata": {},
     "output_type": "execute_result"
    }
   ],
   "source": [
    "df1.head()"
   ]
  },
  {
   "cell_type": "code",
   "execution_count": null,
   "id": "77f5de00",
   "metadata": {},
   "outputs": [],
   "source": []
  },
  {
   "cell_type": "code",
   "execution_count": 63,
   "id": "0e0cb09d",
   "metadata": {},
   "outputs": [
    {
     "data": {
      "text/html": [
       "<div>\n",
       "<style scoped>\n",
       "    .dataframe tbody tr th:only-of-type {\n",
       "        vertical-align: middle;\n",
       "    }\n",
       "\n",
       "    .dataframe tbody tr th {\n",
       "        vertical-align: top;\n",
       "    }\n",
       "\n",
       "    .dataframe thead th {\n",
       "        text-align: right;\n",
       "    }\n",
       "</style>\n",
       "<table border=\"1\" class=\"dataframe\">\n",
       "  <thead>\n",
       "    <tr style=\"text-align: right;\">\n",
       "      <th></th>\n",
       "      <th>Agents</th>\n",
       "      <th>CallsOffered</th>\n",
       "      <th>CallsAbandoned</th>\n",
       "      <th>CallsHandled</th>\n",
       "      <th>ASA</th>\n",
       "      <th>Avehandletime</th>\n",
       "    </tr>\n",
       "  </thead>\n",
       "  <tbody>\n",
       "    <tr>\n",
       "      <th>count</th>\n",
       "      <td>100.000000</td>\n",
       "      <td>100.00000</td>\n",
       "      <td>100.000000</td>\n",
       "      <td>100.000000</td>\n",
       "      <td>100.00000</td>\n",
       "      <td>100.000000</td>\n",
       "    </tr>\n",
       "    <tr>\n",
       "      <th>mean</th>\n",
       "      <td>20.530000</td>\n",
       "      <td>129.48000</td>\n",
       "      <td>4.180000</td>\n",
       "      <td>125.300000</td>\n",
       "      <td>0.92500</td>\n",
       "      <td>5.028000</td>\n",
       "    </tr>\n",
       "    <tr>\n",
       "      <th>std</th>\n",
       "      <td>11.435771</td>\n",
       "      <td>70.19705</td>\n",
       "      <td>9.400602</td>\n",
       "      <td>66.846047</td>\n",
       "      <td>1.98736</td>\n",
       "      <td>0.596637</td>\n",
       "    </tr>\n",
       "    <tr>\n",
       "      <th>min</th>\n",
       "      <td>3.000000</td>\n",
       "      <td>23.00000</td>\n",
       "      <td>0.000000</td>\n",
       "      <td>23.000000</td>\n",
       "      <td>0.00000</td>\n",
       "      <td>2.800000</td>\n",
       "    </tr>\n",
       "    <tr>\n",
       "      <th>25%</th>\n",
       "      <td>10.000000</td>\n",
       "      <td>58.75000</td>\n",
       "      <td>0.000000</td>\n",
       "      <td>58.000000</td>\n",
       "      <td>0.00000</td>\n",
       "      <td>4.800000</td>\n",
       "    </tr>\n",
       "    <tr>\n",
       "      <th>50%</th>\n",
       "      <td>21.000000</td>\n",
       "      <td>141.00000</td>\n",
       "      <td>0.000000</td>\n",
       "      <td>141.000000</td>\n",
       "      <td>0.10000</td>\n",
       "      <td>5.000000</td>\n",
       "    </tr>\n",
       "    <tr>\n",
       "      <th>75%</th>\n",
       "      <td>29.250000</td>\n",
       "      <td>186.25000</td>\n",
       "      <td>2.250000</td>\n",
       "      <td>183.500000</td>\n",
       "      <td>0.74750</td>\n",
       "      <td>5.400000</td>\n",
       "    </tr>\n",
       "    <tr>\n",
       "      <th>max</th>\n",
       "      <td>49.000000</td>\n",
       "      <td>297.00000</td>\n",
       "      <td>49.000000</td>\n",
       "      <td>279.000000</td>\n",
       "      <td>10.28000</td>\n",
       "      <td>6.300000</td>\n",
       "    </tr>\n",
       "  </tbody>\n",
       "</table>\n",
       "</div>"
      ],
      "text/plain": [
       "           Agents  CallsOffered  CallsAbandoned  CallsHandled        ASA  \\\n",
       "count  100.000000     100.00000      100.000000    100.000000  100.00000   \n",
       "mean    20.530000     129.48000        4.180000    125.300000    0.92500   \n",
       "std     11.435771      70.19705        9.400602     66.846047    1.98736   \n",
       "min      3.000000      23.00000        0.000000     23.000000    0.00000   \n",
       "25%     10.000000      58.75000        0.000000     58.000000    0.00000   \n",
       "50%     21.000000     141.00000        0.000000    141.000000    0.10000   \n",
       "75%     29.250000     186.25000        2.250000    183.500000    0.74750   \n",
       "max     49.000000     297.00000       49.000000    279.000000   10.28000   \n",
       "\n",
       "       Avehandletime  \n",
       "count     100.000000  \n",
       "mean        5.028000  \n",
       "std         0.596637  \n",
       "min         2.800000  \n",
       "25%         4.800000  \n",
       "50%         5.000000  \n",
       "75%         5.400000  \n",
       "max         6.300000  "
      ]
     },
     "execution_count": 63,
     "metadata": {},
     "output_type": "execute_result"
    }
   ],
   "source": [
    "df1.describe()"
   ]
  },
  {
   "cell_type": "code",
   "execution_count": null,
   "id": "1059d920",
   "metadata": {},
   "outputs": [],
   "source": []
  },
  {
   "cell_type": "code",
   "execution_count": 40,
   "id": "5b2a5154",
   "metadata": {},
   "outputs": [
    {
     "name": "stdout",
     "output_type": "stream",
     "text": [
      "Off    55\n",
      "On     45\n",
      "Name: VHT, dtype: int64\n"
     ]
    },
    {
     "data": {
      "text/plain": [
       "<AxesSubplot:xlabel='VHT', ylabel='count'>"
      ]
     },
     "execution_count": 40,
     "metadata": {},
     "output_type": "execute_result"
    },
    {
     "data": {
      "image/png": "[encoded data removed]",
      "text/plain": [
       "<Figure size 500x300 with 1 Axes>"
      ]
     },
     "metadata": {},
     "output_type": "display_data"
    }
   ],
   "source": [
    "print(df1['VHT'].value_counts())\n",
    "\n",
    "sns.countplot(x='VHT', data=df1)"
   ]
  },
  {
   "cell_type": "markdown",
   "id": "59ec4e43",
   "metadata": {},
   "source": [
    "Out of 100 hours sample data.\\\n",
    "Mostly Data is from OFF VHT."
   ]
  },
  {
   "cell_type": "code",
   "execution_count": 41,
   "id": "379450bb",
   "metadata": {},
   "outputs": [
    {
     "name": "stdout",
     "output_type": "stream",
     "text": [
      "afternoon    37\n",
      "evening      35\n",
      "morning      28\n",
      "Name: ToD, dtype: int64\n"
     ]
    },
    {
     "data": {
      "text/plain": [
       "<AxesSubplot:xlabel='ToD', ylabel='count'>"
      ]
     },
     "execution_count": 41,
     "metadata": {},
     "output_type": "execute_result"
    },
    {
     "data": {
      "image/png": "[encoded data removed]",
      "text/plain": [
       "<Figure size 500x300 with 1 Axes>"
      ]
     },
     "metadata": {},
     "output_type": "display_data"
    }
   ],
   "source": [
    "print(df1['ToD'].value_counts())\n",
    "\n",
    "sns.countplot(x='ToD', data=df1)"
   ]
  },
  {
   "cell_type": "markdown",
   "id": "deb495f0",
   "metadata": {},
   "source": [
    "Mostly data is from 'Afternoon' calls."
   ]
  },
  {
   "cell_type": "code",
   "execution_count": null,
   "id": "11a41f3f",
   "metadata": {},
   "outputs": [],
   "source": []
  },
  {
   "cell_type": "code",
   "execution_count": 46,
   "id": "91e0a486",
   "metadata": {},
   "outputs": [
    {
     "data": {
      "text/plain": [
       "<AxesSubplot:xlabel='Agents', ylabel='Count'>"
      ]
     },
     "execution_count": 46,
     "metadata": {},
     "output_type": "execute_result"
    },
    {
     "data": {
      "image/png": "[encoded data removed]",
      "text/plain": [
       "<Figure size 500x300 with 1 Axes>"
      ]
     },
     "metadata": {},
     "output_type": "display_data"
    }
   ],
   "source": [
    "sns.histplot(x='Agents', data=df1, kde=True)"
   ]
  },
  {
   "cell_type": "markdown",
   "id": "9cf0e5c6",
   "metadata": {},
   "source": [
    "This shows the distribution of Agents in these 100 hours sample data.\\\n",
    "We can see that mostly agents are from 10-15 and 25-35 range."
   ]
  },
  {
   "cell_type": "code",
   "execution_count": null,
   "id": "c29636a6",
   "metadata": {},
   "outputs": [],
   "source": []
  },
  {
   "cell_type": "code",
   "execution_count": 47,
   "id": "c1c9d45b",
   "metadata": {},
   "outputs": [
    {
     "data": {
      "text/plain": [
       "<AxesSubplot:xlabel='CallsOffered', ylabel='Count'>"
      ]
     },
     "execution_count": 47,
     "metadata": {},
     "output_type": "execute_result"
    },
    {
     "data": {
      "image/png": "[encoded data removed]",
      "text/plain": [
       "<Figure size 500x300 with 1 Axes>"
      ]
     },
     "metadata": {},
     "output_type": "display_data"
    }
   ],
   "source": [
    "sns.histplot(x='CallsOffered', data=df1, kde=True)"
   ]
  },
  {
   "cell_type": "markdown",
   "id": "8b74ab59",
   "metadata": {},
   "source": [
    "This shows the distribution of Calls Offered.\\\n",
    "Mostly callsOffered are from 50-100 and 150-200 range."
   ]
  },
  {
   "cell_type": "code",
   "execution_count": null,
   "id": "db559e87",
   "metadata": {},
   "outputs": [],
   "source": []
  },
  {
   "cell_type": "code",
   "execution_count": 51,
   "id": "abe800a0",
   "metadata": {},
   "outputs": [
    {
     "data": {
      "text/plain": [
       "<AxesSubplot:xlabel='CallsAbandoned'>"
      ]
     },
     "execution_count": 51,
     "metadata": {},
     "output_type": "execute_result"
    },
    {
     "data": {
      "image/png": "[encoded data removed]",
      "text/plain": [
       "<Figure size 500x300 with 1 Axes>"
      ]
     },
     "metadata": {},
     "output_type": "display_data"
    }
   ],
   "source": [
    "sns.boxplot(x='CallsAbandoned', data=df1)"
   ]
  },
  {
   "cell_type": "markdown",
   "id": "0d3c604d",
   "metadata": {},
   "source": [
    "This shows the boxplot of CallsAbandoned.\\\n",
    "Mostly calls Abandoned are 0-5."
   ]
  },
  {
   "cell_type": "code",
   "execution_count": null,
   "id": "00c3fa77",
   "metadata": {},
   "outputs": [],
   "source": []
  },
  {
   "cell_type": "code",
   "execution_count": null,
   "id": "a81163db",
   "metadata": {},
   "outputs": [],
   "source": []
  },
  {
   "cell_type": "code",
   "execution_count": 53,
   "id": "6eb744f5",
   "metadata": {},
   "outputs": [
    {
     "data": {
      "text/plain": [
       "<AxesSubplot:xlabel='CallsHandled', ylabel='Count'>"
      ]
     },
     "execution_count": 53,
     "metadata": {},
     "output_type": "execute_result"
    },
    {
     "data": {
      "image/png": "[encoded data removed]",
      "text/plain": [
       "<Figure size 500x300 with 1 Axes>"
      ]
     },
     "metadata": {},
     "output_type": "display_data"
    }
   ],
   "source": [
    "sns.histplot(x='CallsHandled', data=df1, kde=True1)"
   ]
  },
  {
   "cell_type": "markdown",
   "id": "f0156e76",
   "metadata": {},
   "source": [
    "This shows the distribution of Calls Handled.\\\n",
    "This matches the pattern of Calls Offered. \\\n",
    "Mostly calls handled are from 0-100 and 150-230 range."
   ]
  },
  {
   "cell_type": "code",
   "execution_count": null,
   "id": "d2bc8a1f",
   "metadata": {},
   "outputs": [],
   "source": []
  },
  {
   "cell_type": "code",
   "execution_count": 56,
   "id": "1bafdaeb",
   "metadata": {},
   "outputs": [
    {
     "data": {
      "text/plain": [
       "<AxesSubplot:xlabel='ASA'>"
      ]
     },
     "execution_count": 56,
     "metadata": {},
     "output_type": "execute_result"
    },
    {
     "data": {
      "image/png": "[encoded data removed]",
      "text/plain": [
       "<Figure size 500x300 with 1 Axes>"
      ]
     },
     "metadata": {},
     "output_type": "display_data"
    }
   ],
   "source": [
    "sns.boxplot(x='ASA', data=df1)"
   ]
  },
  {
   "cell_type": "markdown",
   "id": "4057a03f",
   "metadata": {},
   "source": [
    "This shows the boxplot of ASA (Average Speed of Answer).\\\n",
    "Mostly ASA is under 1 minute. "
   ]
  },
  {
   "cell_type": "code",
   "execution_count": null,
   "id": "8005fc9a",
   "metadata": {},
   "outputs": [],
   "source": []
  },
  {
   "cell_type": "code",
   "execution_count": 58,
   "id": "e993cb78",
   "metadata": {},
   "outputs": [
    {
     "data": {
      "text/plain": [
       "<AxesSubplot:xlabel='Avehandletime', ylabel='Count'>"
      ]
     },
     "execution_count": 58,
     "metadata": {},
     "output_type": "execute_result"
    },
    {
     "data": {
      "image/png": "[encoded data removed]",
      "text/plain": [
       "<Figure size 500x300 with 1 Axes>"
      ]
     },
     "metadata": {},
     "output_type": "display_data"
    }
   ],
   "source": [
    "sns.histplot(x='Avehandletime', data=df1)"
   ]
  },
  {
   "cell_type": "markdown",
   "id": "3978de2d",
   "metadata": {},
   "source": [
    "This shows the distribution of Average Handle Time.\\\n",
    "Mostly Handle time is 5 minutes."
   ]
  },
  {
   "cell_type": "code",
   "execution_count": null,
   "id": "fc6260ac",
   "metadata": {},
   "outputs": [],
   "source": []
  },
  {
   "cell_type": "code",
   "execution_count": null,
   "id": "550db0d1",
   "metadata": {},
   "outputs": [],
   "source": []
  },
  {
   "cell_type": "code",
   "execution_count": null,
   "id": "775f59b8",
   "metadata": {},
   "outputs": [],
   "source": []
  },
  {
   "cell_type": "markdown",
   "id": "f948b1d0",
   "metadata": {},
   "source": [
    "## Bi-Variate Analysis"
   ]
  },
  {
   "cell_type": "code",
   "execution_count": 77,
   "id": "248829c0",
   "metadata": {},
   "outputs": [
    {
     "data": {
      "text/plain": [
       "<AxesSubplot:xlabel='VHT', ylabel='count'>"
      ]
     },
     "execution_count": 77,
     "metadata": {},
     "output_type": "execute_result"
    },
    {
     "data": {
      "image/png": "[encoded data removed]",
      "text/plain": [
       "<Figure size 500x300 with 1 Axes>"
      ]
     },
     "metadata": {},
     "output_type": "display_data"
    }
   ],
   "source": [
    "sns.countplot(x='VHT', hue='ToD', data=df1)"
   ]
  },
  {
   "cell_type": "markdown",
   "id": "ee1c37e3",
   "metadata": {},
   "source": [
    "So we can see that when VHT is Off, Mostly calls are from Evening.\\\n",
    "and when the VHT is On, Mostly calls are from Afternoon"
   ]
  },
  {
   "cell_type": "code",
   "execution_count": null,
   "id": "4282cc42",
   "metadata": {},
   "outputs": [],
   "source": []
  },
  {
   "cell_type": "code",
   "execution_count": 80,
   "id": "5df2d7f1",
   "metadata": {},
   "outputs": [
    {
     "data": {
      "text/plain": [
       "<AxesSubplot:xlabel='VHT'>"
      ]
     },
     "execution_count": 80,
     "metadata": {},
     "output_type": "execute_result"
    },
    {
     "data": {
      "image/png": "[encoded data removed]",
      "text/plain": [
       "<Figure size 500x300 with 1 Axes>"
      ]
     },
     "metadata": {},
     "output_type": "display_data"
    }
   ],
   "source": [
    "df1.groupby(['VHT'])['Agents'].mean().plot(kind='bar')"
   ]
  },
  {
   "cell_type": "markdown",
   "id": "932b2718",
   "metadata": {},
   "source": [
    "This shows that when VHT is On, There are mostly Agent working."
   ]
  },
  {
   "cell_type": "code",
   "execution_count": null,
   "id": "87550166",
   "metadata": {},
   "outputs": [],
   "source": []
  },
  {
   "cell_type": "code",
   "execution_count": 82,
   "id": "c8868a1b",
   "metadata": {},
   "outputs": [
    {
     "data": {
      "text/plain": [
       "<AxesSubplot:xlabel='VHT'>"
      ]
     },
     "execution_count": 82,
     "metadata": {},
     "output_type": "execute_result"
    },
    {
     "data": {
      "image/png": "[encoded data removed]",
      "text/plain": [
       "<Figure size 500x300 with 1 Axes>"
      ]
     },
     "metadata": {},
     "output_type": "display_data"
    }
   ],
   "source": [
    "df1.groupby(['VHT'])['CallsOffered'].mean().plot(kind='bar')"
   ]
  },
  {
   "cell_type": "markdown",
   "id": "bddcf315",
   "metadata": {},
   "source": [
    "This shows that when VHT is On, most of the Calls were offered to the Agents."
   ]
  },
  {
   "cell_type": "code",
   "execution_count": null,
   "id": "6a72b004",
   "metadata": {},
   "outputs": [],
   "source": []
  },
  {
   "cell_type": "code",
   "execution_count": 85,
   "id": "b2cc9430",
   "metadata": {},
   "outputs": [
    {
     "data": {
      "text/plain": [
       "<AxesSubplot:xlabel='VHT'>"
      ]
     },
     "execution_count": 85,
     "metadata": {},
     "output_type": "execute_result"
    },
    {
     "data": {
      "image/png": "[encoded data removed]",
      "text/plain": [
       "<Figure size 500x300 with 1 Axes>"
      ]
     },
     "metadata": {},
     "output_type": "display_data"
    }
   ],
   "source": [
    "df1.groupby(['VHT'])['ASA'].mean().plot(kind='bar')"
   ]
  },
  {
   "cell_type": "markdown",
   "id": "f29cadac",
   "metadata": {},
   "source": [
    "This shows that when VHT is On, ASA(Average Speed of Answer) is high"
   ]
  },
  {
   "cell_type": "code",
   "execution_count": null,
   "id": "b41d621e",
   "metadata": {},
   "outputs": [],
   "source": []
  },
  {
   "cell_type": "code",
   "execution_count": 86,
   "id": "774fcabf",
   "metadata": {},
   "outputs": [
    {
     "data": {
      "text/plain": [
       "<AxesSubplot:xlabel='VHT'>"
      ]
     },
     "execution_count": 86,
     "metadata": {},
     "output_type": "execute_result"
    },
    {
     "data": {
      "image/png": "[encoded data removed]",
      "text/plain": [
       "<Figure size 500x300 with 1 Axes>"
      ]
     },
     "metadata": {},
     "output_type": "display_data"
    }
   ],
   "source": [
    "df1.groupby(['VHT'])['Avehandletime'].mean().plot(kind='bar')"
   ]
  },
  {
   "cell_type": "markdown",
   "id": "8aeeb648",
   "metadata": {},
   "source": [
    "This shows that whether VHT is On or Off. The Average Handle Time is equal in both the cases and that is around 5 minutes."
   ]
  },
  {
   "cell_type": "code",
   "execution_count": null,
   "id": "4fb6bf45",
   "metadata": {},
   "outputs": [],
   "source": []
  },
  {
   "cell_type": "markdown",
   "id": "465bfbab",
   "metadata": {},
   "source": [
    "## Correlation among all the attributes"
   ]
  },
  {
   "cell_type": "code",
   "execution_count": 72,
   "id": "761b7a6c",
   "metadata": {},
   "outputs": [],
   "source": [
    "df1['VHT num'] = df1['VHT'].map({'Off':0, 'On':1})"
   ]
  },
  {
   "cell_type": "code",
   "execution_count": 75,
   "id": "97dd5af3",
   "metadata": {},
   "outputs": [
    {
     "data": {
      "text/plain": [
       "<AxesSubplot:>"
      ]
     },
     "execution_count": 75,
     "metadata": {},
     "output_type": "execute_result"
    },
    {
     "data": {
      "image/png": "[encoded data removed]",
      "text/plain": [
       "<Figure size 500x300 with 2 Axes>"
      ]
     },
     "metadata": {},
     "output_type": "display_data"
    }
   ],
   "source": [
    "sns.heatmap(df1.corr(), annot=True)"
   ]
  },
  {
   "cell_type": "code",
   "execution_count": null,
   "id": "7c628fab",
   "metadata": {},
   "outputs": [],
   "source": []
  },
  {
   "cell_type": "code",
   "execution_count": null,
   "id": "2196facb",
   "metadata": {},
   "outputs": [],
   "source": []
  },
  {
   "cell_type": "code",
   "execution_count": null,
   "id": "374e0013",
   "metadata": {},
   "outputs": [],
   "source": []
  },
  {
   "cell_type": "code",
   "execution_count": null,
   "id": "e380386e",
   "metadata": {},
   "outputs": [],
   "source": []
  },
  {
   "cell_type": "code",
   "execution_count": null,
   "id": "c0564d4a",
   "metadata": {},
   "outputs": [],
   "source": []
  },
  {
   "cell_type": "code",
   "execution_count": null,
   "id": "e97a15e2",
   "metadata": {},
   "outputs": [],
   "source": []
  },
  {
   "cell_type": "code",
   "execution_count": null,
   "id": "e7990b5b",
   "metadata": {},
   "outputs": [],
   "source": []
  },
  {
   "cell_type": "markdown",
   "id": "ed27cc20",
   "metadata": {},
   "source": [
    "## The Main Analysis Question:\n",
    "Is there any evidence that this reduces the chance that callers abandon their call?"
   ]
  },
  {
   "cell_type": "code",
   "execution_count": 39,
   "id": "3e43cb10",
   "metadata": {},
   "outputs": [
    {
     "data": {
      "text/plain": [
       "<AxesSubplot:xlabel='VHT'>"
      ]
     },
     "execution_count": 39,
     "metadata": {},
     "output_type": "execute_result"
    },
    {
     "data": {
      "image/png": "[encoded data removed]",
      "text/plain": [
       "<Figure size 500x300 with 1 Axes>"
      ]
     },
     "metadata": {},
     "output_type": "display_data"
    }
   ],
   "source": [
    "df1.groupby(['VHT'])['CallsAbandoned'].mean()\n",
    "\n",
    "df1.groupby(['VHT'])['CallsAbandoned'].mean().plot(kind='bar')"
   ]
  },
  {
   "cell_type": "markdown",
   "id": "fdb57228",
   "metadata": {},
   "source": [
    "This shows the CallsAbandoned mean rate when the VHT is Off and On.\\\n",
    "We can see that when VHT is On. Most of the calls Abandoned.\\\n",
    "This seems that most of the callers abandon their calls when the VHT is On.\\\n"
   ]
  },
  {
   "cell_type": "markdown",
   "id": "035deab8",
   "metadata": {},
   "source": [
    "The Impact of VHT in last Summer:\n",
    "\n",
    "So during this analysis we can see that in last winter most of the calls abandon their calls when the VHT was ON.\\\n",
    "so there was no benefit from this VHT (Virtual Hold Technology).\\\n",
    "we can see that the ratio of Calls abandoned is very high when VHT is ON as compared to when the VHT was OFF."
   ]
  },
  {
   "cell_type": "code",
   "execution_count": null,
   "id": "b598739e",
   "metadata": {},
   "outputs": [],
   "source": []
  },
  {
   "cell_type": "code",
   "execution_count": null,
   "id": "1ed489d0",
   "metadata": {},
   "outputs": [],
   "source": []
  },
  {
   "cell_type": "code",
   "execution_count": null,
   "id": "08e61a55",
   "metadata": {},
   "outputs": [],
   "source": []
  }
 ],
 "metadata": {
  "kernelspec": {
   "display_name": "Python 3 (ipykernel)",
   "language": "python",
   "name": "python3"
  },
  "language_info": {
   "codemirror_mode": {
    "name": "ipython",
    "version": 3
   },
   "file_extension": ".py",
   "mimetype": "text/x-python",
   "name": "python",
   "nbconvert_exporter": "python",
   "pygments_lexer": "ipython3",
   "version": "3.9.13"
  }
 },
 "nbformat": 4,
 "nbformat_minor": 5
}
